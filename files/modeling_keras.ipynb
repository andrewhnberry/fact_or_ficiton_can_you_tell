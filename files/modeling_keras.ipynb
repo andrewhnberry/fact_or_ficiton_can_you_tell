{
 "cells": [
  {
   "cell_type": "markdown",
   "id": "7a35385b",
   "metadata": {},
   "source": [
    "### Modeling with Keras"
   ]
  },
  {
   "cell_type": "code",
   "execution_count": 10,
   "id": "fa1ff3c2",
   "metadata": {},
   "outputs": [],
   "source": [
    "import os\n",
    "import pandas as pd\n",
    "import matplotlib.pyplot as plt\n",
    "import tensorflow as tf\n",
    "from tensorflow import keras\n",
    "from tensorflow.keras import layers\n",
    "from tensorflow.keras.preprocessing.text import Tokenizer\n",
    "from tensorflow.keras.preprocessing.sequence import pad_sequences\n",
    "from sklearn.model_selection import train_test_split\n",
    "from tensorflow.keras.callbacks import EarlyStopping\n",
    "from sklearn.model_selection import train_test_split\n",
    "\n",
    "\n",
    "#helper function to plot performance\n",
    "def plot_graphs(history, metric):\n",
    "    plt.plot(history.history[metric])\n",
    "    plt.plot(history.history['val_'+metric], '')\n",
    "    plt.xlabel(\"Epochs\")\n",
    "    plt.ylabel(metric)\n",
    "    plt.legend([metric, 'val_'+metric])"
   ]
  },
  {
   "cell_type": "code",
   "execution_count": 11,
   "id": "f2697b6b",
   "metadata": {},
   "outputs": [
    {
     "data": {
      "text/html": [
       "<div>\n",
       "<style scoped>\n",
       "    .dataframe tbody tr th:only-of-type {\n",
       "        vertical-align: middle;\n",
       "    }\n",
       "\n",
       "    .dataframe tbody tr th {\n",
       "        vertical-align: top;\n",
       "    }\n",
       "\n",
       "    .dataframe thead th {\n",
       "        text-align: right;\n",
       "    }\n",
       "</style>\n",
       "<table border=\"1\" class=\"dataframe\">\n",
       "  <thead>\n",
       "    <tr style=\"text-align: right;\">\n",
       "      <th></th>\n",
       "      <th>headline</th>\n",
       "      <th>is_sarcastic</th>\n",
       "      <th>word_count</th>\n",
       "    </tr>\n",
       "  </thead>\n",
       "  <tbody>\n",
       "    <tr>\n",
       "      <th>0</th>\n",
       "      <td>former versace store clerk sues over secret bl...</td>\n",
       "      <td>0</td>\n",
       "      <td>12</td>\n",
       "    </tr>\n",
       "    <tr>\n",
       "      <th>1</th>\n",
       "      <td>the roseanne revival catches up to our thorny ...</td>\n",
       "      <td>0</td>\n",
       "      <td>14</td>\n",
       "    </tr>\n",
       "    <tr>\n",
       "      <th>2</th>\n",
       "      <td>mom starting to fear sons web series closest t...</td>\n",
       "      <td>1</td>\n",
       "      <td>14</td>\n",
       "    </tr>\n",
       "    <tr>\n",
       "      <th>3</th>\n",
       "      <td>boehner just wants wife to listen not come up ...</td>\n",
       "      <td>1</td>\n",
       "      <td>13</td>\n",
       "    </tr>\n",
       "    <tr>\n",
       "      <th>4</th>\n",
       "      <td>jk rowling wishes snape happy birthday in the ...</td>\n",
       "      <td>0</td>\n",
       "      <td>11</td>\n",
       "    </tr>\n",
       "  </tbody>\n",
       "</table>\n",
       "</div>"
      ],
      "text/plain": [
       "                                            headline  is_sarcastic  word_count\n",
       "0  former versace store clerk sues over secret bl...             0          12\n",
       "1  the roseanne revival catches up to our thorny ...             0          14\n",
       "2  mom starting to fear sons web series closest t...             1          14\n",
       "3  boehner just wants wife to listen not come up ...             1          13\n",
       "4  jk rowling wishes snape happy birthday in the ...             0          11"
      ]
     },
     "execution_count": 11,
     "metadata": {},
     "output_type": "execute_result"
    }
   ],
   "source": [
    "df = pd.read_csv('data_clean.csv')\n",
    "df.head()"
   ]
  },
  {
   "cell_type": "code",
   "execution_count": 12,
   "id": "4b1a85b9",
   "metadata": {},
   "outputs": [
    {
     "name": "stdout",
     "output_type": "stream",
     "text": [
      "Found 28862 unique tokens\n",
      "Shape of data tensor: (28515, 100)\n",
      "(28515,)\n",
      "(22812, 100) (22812,)\n",
      "(5703, 100) (5703,)\n"
     ]
    }
   ],
   "source": [
    "VOCAB_MAX = 10000 #max words to be used (most frequenct)\n",
    "SEQUENCE_LENGTH_LIMIT = 100\n",
    "EMBEDDING_DIM = 20 #Max headline number of words is 20\n",
    "\n",
    "#text preprocessing for tf\n",
    "tokenizer = Tokenizer(num_words = VOCAB_MAX)\n",
    "tokenizer.fit_on_texts(df.headline.values)\n",
    "\n",
    "word_index = tokenizer.word_index\n",
    "print(f'Found {len(word_index)} unique tokens')\n",
    "\n",
    "X = tokenizer.texts_to_sequences(df.headline.values)\n",
    "X = pad_sequences(X, maxlen=SEQUENCE_LENGTH_LIMIT)\n",
    "\n",
    "print(\"Shape of data tensor:\", X.shape)\n",
    "\n",
    "Y = df.is_sarcastic.values\n",
    "print(Y.shape)\n",
    "\n",
    "X_train, X_test, y_train, y_test = train_test_split(X,Y, \n",
    "                                                    test_size = 0.2, \n",
    "                                                    random_state = 42)\n",
    "print(X_train.shape,y_train.shape)\n",
    "print(X_test.shape,y_test.shape)"
   ]
  },
  {
   "cell_type": "code",
   "execution_count": 34,
   "id": "1d13b658",
   "metadata": {},
   "outputs": [],
   "source": [
    "import pickle\n",
    "\n",
    "with open('tokenizer.pickle', 'wb') as handle:\n",
    "    pickle.dump(tokenizer, handle, protocol=pickle.HIGHEST_PROTOCOL)"
   ]
  },
  {
   "cell_type": "markdown",
   "id": "ec65281d",
   "metadata": {},
   "source": [
    "### LSTM Model Keras"
   ]
  },
  {
   "cell_type": "code",
   "execution_count": 13,
   "id": "eec57e5b",
   "metadata": {},
   "outputs": [
    {
     "name": "stdout",
     "output_type": "stream",
     "text": [
      "Model: \"sequential_1\"\n",
      "_________________________________________________________________\n",
      "Layer (type)                 Output Shape              Param #   \n",
      "=================================================================\n",
      "embedding_1 (Embedding)      (None, 100, 20)           200000    \n",
      "_________________________________________________________________\n",
      "bidirectional_1 (Bidirection (None, 128)               43520     \n",
      "_________________________________________________________________\n",
      "dropout_1 (Dropout)          (None, 128)               0         \n",
      "_________________________________________________________________\n",
      "dense_2 (Dense)              (None, 32)                4128      \n",
      "_________________________________________________________________\n",
      "dense_3 (Dense)              (None, 1)                 33        \n",
      "=================================================================\n",
      "Total params: 247,681\n",
      "Trainable params: 247,681\n",
      "Non-trainable params: 0\n",
      "_________________________________________________________________\n"
     ]
    }
   ],
   "source": [
    "## Keras Sequential model\n",
    "model = keras.Sequential()\n",
    "model.add(layers.Embedding(VOCAB_MAX, EMBEDDING_DIM, input_length=X.shape[1]))\n",
    "model.add(layers.Bidirectional(layers.LSTM(64)))\n",
    "model.add(layers.Dropout(0.1))\n",
    "model.add(layers.Dense(32,activation='relu'))\n",
    "model.add(layers.Dense(1, activation='sigmoid'))\n",
    "\n",
    "model.compile(loss='binary_crossentropy',\n",
    "             optimizer='adam',\n",
    "             metrics = ['accuracy'])\n",
    "\n",
    "model.summary()"
   ]
  },
  {
   "cell_type": "code",
   "execution_count": 14,
   "id": "ef41fd36",
   "metadata": {},
   "outputs": [
    {
     "name": "stdout",
     "output_type": "stream",
     "text": [
      "Epoch 1/30\n"
     ]
    },
    {
     "name": "stderr",
     "output_type": "stream",
     "text": [
      "2022-03-16 13:14:17.467640: I tensorflow/core/grappler/optimizers/custom_graph_optimizer_registry.cc:112] Plugin optimizer for device_type GPU is enabled.\n",
      "2022-03-16 13:14:17.597559: I tensorflow/core/grappler/optimizers/custom_graph_optimizer_registry.cc:112] Plugin optimizer for device_type GPU is enabled.\n",
      "2022-03-16 13:14:17.606490: I tensorflow/core/grappler/optimizers/custom_graph_optimizer_registry.cc:112] Plugin optimizer for device_type GPU is enabled.\n",
      "2022-03-16 13:14:17.983433: I tensorflow/core/grappler/optimizers/custom_graph_optimizer_registry.cc:112] Plugin optimizer for device_type GPU is enabled.\n",
      "2022-03-16 13:14:17.996742: I tensorflow/core/grappler/optimizers/custom_graph_optimizer_registry.cc:112] Plugin optimizer for device_type GPU is enabled.\n"
     ]
    },
    {
     "name": "stdout",
     "output_type": "stream",
     "text": [
      "40/40 [==============================] - ETA: 0s - loss: 0.6834 - accuracy: 0.5648"
     ]
    },
    {
     "name": "stderr",
     "output_type": "stream",
     "text": [
      "2022-03-16 13:14:24.407826: I tensorflow/core/grappler/optimizers/custom_graph_optimizer_registry.cc:112] Plugin optimizer for device_type GPU is enabled.\n",
      "2022-03-16 13:14:24.450854: I tensorflow/core/grappler/optimizers/custom_graph_optimizer_registry.cc:112] Plugin optimizer for device_type GPU is enabled.\n",
      "2022-03-16 13:14:24.457230: I tensorflow/core/grappler/optimizers/custom_graph_optimizer_registry.cc:112] Plugin optimizer for device_type GPU is enabled.\n"
     ]
    },
    {
     "name": "stdout",
     "output_type": "stream",
     "text": [
      "40/40 [==============================] - 9s 170ms/step - loss: 0.6834 - accuracy: 0.5648 - val_loss: 0.6407 - val_accuracy: 0.6893\n",
      "Epoch 2/30\n",
      "40/40 [==============================] - 5s 126ms/step - loss: 0.5358 - accuracy: 0.7604 - val_loss: 0.4794 - val_accuracy: 0.7520\n",
      "Epoch 3/30\n",
      "40/40 [==============================] - 5s 129ms/step - loss: 0.4716 - accuracy: 0.7724 - val_loss: 0.5526 - val_accuracy: 0.7020\n",
      "Epoch 4/30\n",
      "40/40 [==============================] - 5s 128ms/step - loss: 0.5376 - accuracy: 0.7289 - val_loss: 0.5359 - val_accuracy: 0.7169\n",
      "Epoch 5/30\n",
      "40/40 [==============================] - 5s 128ms/step - loss: 0.5010 - accuracy: 0.7555 - val_loss: 0.4897 - val_accuracy: 0.7638\n",
      "Epoch 6/30\n",
      "40/40 [==============================] - 5s 126ms/step - loss: 0.4055 - accuracy: 0.8181 - val_loss: 0.3720 - val_accuracy: 0.8326\n",
      "Epoch 7/30\n",
      "40/40 [==============================] - 5s 126ms/step - loss: 0.3249 - accuracy: 0.8680 - val_loss: 0.4127 - val_accuracy: 0.8142\n",
      "Epoch 8/30\n",
      "40/40 [==============================] - 5s 127ms/step - loss: 0.3325 - accuracy: 0.8630 - val_loss: 0.4038 - val_accuracy: 0.8190\n",
      "Epoch 9/30\n",
      "40/40 [==============================] - 5s 126ms/step - loss: 0.3108 - accuracy: 0.8723 - val_loss: 0.3832 - val_accuracy: 0.8339\n",
      "Epoch 10/30\n",
      "40/40 [==============================] - 5s 125ms/step - loss: 0.2745 - accuracy: 0.8918 - val_loss: 0.3923 - val_accuracy: 0.8234\n",
      "Epoch 11/30\n",
      "40/40 [==============================] - 5s 126ms/step - loss: 0.2502 - accuracy: 0.9036 - val_loss: 0.4284 - val_accuracy: 0.8164\n"
     ]
    },
    {
     "data": {
      "image/png": "[encoded data removed]",
      "text/plain": [
       "<Figure size 432x288 with 1 Axes>"
      ]
     },
     "metadata": {
      "needs_background": "light"
     },
     "output_type": "display_data"
    }
   ],
   "source": [
    "history = model.fit(X_train, y_train,\n",
    "                   epochs = 30,\n",
    "                   batch_size=514,\n",
    "                   validation_split=0.1,\n",
    "                   callbacks=[EarlyStopping(monitor='val_loss', patience=5)],\n",
    "                   verbose = 1)\n",
    "\n",
    "plot_graphs(history, \"accuracy\")"
   ]
  },
  {
   "cell_type": "code",
   "execution_count": 20,
   "id": "7b3ead95",
   "metadata": {},
   "outputs": [],
   "source": [
    "#model.save('models/LSTM_classifier_V1.h5')\n",
    "#model.save('models/LSTM_classifier_V1', save_format=\"tf\")"
   ]
  },
  {
   "cell_type": "code",
   "execution_count": 22,
   "id": "5a287de3",
   "metadata": {},
   "outputs": [],
   "source": [
    "y_pred =model.predict(X_test)"
   ]
  },
  {
   "cell_type": "code",
   "execution_count": 27,
   "id": "564e0226",
   "metadata": {},
   "outputs": [],
   "source": [
    "import numpy as np\n",
    "\n",
    "#round the predictions to 0 or 1\n",
    "y_pred = np.rint(y_pred)"
   ]
  },
  {
   "cell_type": "code",
   "execution_count": 31,
   "id": "56897e8b",
   "metadata": {},
   "outputs": [],
   "source": [
    "from sklearn.metrics import confusion_matrix\n",
    "import itertools\n",
    "cm = confusion_matrix(y_test, y_pred)"
   ]
  },
  {
   "cell_type": "code",
   "execution_count": 32,
   "id": "1efb05ea",
   "metadata": {},
   "outputs": [],
   "source": [
    "def plot_confusion_matrix(cm, classes, \n",
    "                         normalize = False,\n",
    "                         title=\"Confusion Matrix\",\n",
    "                         cmap=plt.cm.Blues):\n",
    "    \n",
    "    plt.imshow(cm, interpolation='nearest', cmap=cmap)\n",
    "    plt.title(title)\n",
    "    plt.colorbar()\n",
    "    tick_marks = np.arange(len(classes))\n",
    "    plt.xticks(tick_marks, classes, rotation=45)\n",
    "    plt.yticks(tick_marks, classes)\n",
    "    \n",
    "    if normalize:\n",
    "        cm= cm.astype('float') / cm.sum(axis=1)[:, np.newaxis]\n",
    "        print(\"Normalized Confusion Matrix\")\n",
    "    else:\n",
    "        print(\"Confusion Matrix, without normalization\")\n",
    "        \n",
    "    print(cm)\n",
    "    \n",
    "    thresh = cm.max() / 2. \n",
    "    for i, j in itertools.product(range(cm.shape[0]), range(cm.shape[1])):\n",
    "        plt.text(j, i, cm[i,j],\n",
    "                horizontalalignment='center',\n",
    "                color='white' if cm[i, j] > thresh else \"black\")\n",
    "        \n",
    "        plt.tight_layout()\n",
    "        plt.ylabel(\"True Label\")\n",
    "        plt.xlabel(\"Predicted label\")"
   ]
  },
  {
   "cell_type": "code",
   "execution_count": 33,
   "id": "fb8554a7",
   "metadata": {},
   "outputs": [
    {
     "name": "stdout",
     "output_type": "stream",
     "text": [
      "Confusion Matrix, without normalization\n",
      "[[2563  483]\n",
      " [ 554 2103]]\n"
     ]
    },
    {
     "data": {
      "image/png": "[encoded data removed]",
      "text/plain": [
       "<Figure size 432x288 with 2 Axes>"
      ]
     },
     "metadata": {
      "needs_background": "light"
     },
     "output_type": "display_data"
    }
   ],
   "source": [
    "cm_plot_labels = ['No Sarcasm', \"Sarcasm\"]\n",
    "plot_confusion_matrix(cm=cm, classes=cm_plot_labels, title=\"Confusion Matrix\")"
   ]
  },
  {
   "cell_type": "code",
   "execution_count": null,
   "id": "dd57d7a7",
   "metadata": {},
   "outputs": [],
   "source": []
  }
 ],
 "metadata": {
  "kernelspec": {
   "display_name": "Python 3.9 (tensorflow)",
   "language": "python",
   "name": "tensorflow"
  },
  "language_info": {
   "codemirror_mode": {
    "name": "ipython",
    "version": 3
   },
   "file_extension": ".py",
   "mimetype": "text/x-python",
   "name": "python",
   "nbconvert_exporter": "python",
   "pygments_lexer": "ipython3",
   "version": "3.9.10"
  }
 },
 "nbformat": 4,
 "nbformat_minor": 5
}
