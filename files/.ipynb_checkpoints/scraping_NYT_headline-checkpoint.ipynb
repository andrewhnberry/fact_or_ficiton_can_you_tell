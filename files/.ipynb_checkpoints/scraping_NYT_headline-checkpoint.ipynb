{
 "cells": [
  {
   "cell_type": "markdown",
   "id": "3d56e504",
   "metadata": {},
   "source": [
    "## Scraping New York Times Headlines\n"
   ]
  },
  {
   "cell_type": "code",
   "execution_count": null,
   "id": "5ec42eee",
   "metadata": {},
   "outputs": [],
   "source": [
    "import os\n",
    "import requests as r\n",
    "\n",
    "import pprint\n",
    "pp = pprint.PrettyPrinter(indent=4)\n",
    "\n",
    "import pandas as pd"
   ]
  },
  {
   "cell_type": "code",
   "execution_count": null,
   "id": "af8b67ff",
   "metadata": {},
   "outputs": [],
   "source": [
    "api_key = \"w23SJpS20E3khBJ8MkxrwgOKmH1i641G\"\n",
    "api_secret = \"WyETHe7tXZV1XwvZ\""
   ]
  },
  {
   "cell_type": "code",
   "execution_count": null,
   "id": "e8da161f",
   "metadata": {},
   "outputs": [],
   "source": [
    "endpoint = f\"https://api.nytimes.com/svc/archive/v1/2019/1.json?api-key={api_key}\""
   ]
  },
  {
   "cell_type": "code",
   "execution_count": null,
   "id": "442d2f4c",
   "metadata": {},
   "outputs": [],
   "source": [
    "response = r.get(f\"https://api.nytimes.com/svc/archive/v1/{2020}/{2}.json?api-key={api_key}\")\n",
    "\n",
    "result = response.json()"
   ]
  },
  {
   "cell_type": "code",
   "execution_count": null,
   "id": "6eec4ee4",
   "metadata": {
    "scrolled": true
   },
   "outputs": [],
   "source": [
    "pp.pprint(result)"
   ]
  },
  {
   "cell_type": "code",
   "execution_count": null,
   "id": "d40841d0",
   "metadata": {},
   "outputs": [],
   "source": [
    "len(result['response']['docs'])"
   ]
  },
  {
   "cell_type": "code",
   "execution_count": null,
   "id": "a051b1bf",
   "metadata": {},
   "outputs": [],
   "source": [
    "result['response']['docs'][0]['headline']['main']"
   ]
  },
  {
   "cell_type": "code",
   "execution_count": null,
   "id": "bc96d92f",
   "metadata": {},
   "outputs": [],
   "source": []
  },
  {
   "cell_type": "code",
   "execution_count": null,
   "id": "623a2716",
   "metadata": {},
   "outputs": [],
   "source": [
    "os.path.isfile('nyt_headlines.csv')"
   ]
  },
  {
   "cell_type": "code",
   "execution_count": null,
   "id": "de6f63e1",
   "metadata": {},
   "outputs": [],
   "source": [
    "month = [12,11,10,9,8,7,6,5,4,3,2,1]\n",
    "year = [2021,2020,2019]\n",
    "\n",
    "\n",
    "def export_nyt_headlines(year = [2022], month = [2]):\n",
    "    headline_count = 0\n",
    "    \n",
    "    for y in year:\n",
    "        for m in month:\n",
    "            print('Initializing call...')\n",
    "            headline_list = []\n",
    "            result = r.get(f\"https://api.nytimes.com/svc/archive/v1/{y}/{m}.json?api-key={api_key}\").json()\n",
    "            headline_count += len(result['response']['docs'])\n",
    "            \n",
    "            for i in range(0, len(result['response']['docs'])):\n",
    "                headline_list.append(result['response']['docs'][i]['headline']['main'])\n",
    "                \n",
    "                \n",
    "            \n",
    "            headline_df = pd.DataFrame({'headlines' : headline_list})\n",
    "            \n",
    "            if os.path.isfile('nyt_headlines.csv') == True:\n",
    "                headline_df.to_csv('nyt_headlines.csv', mode='a',\n",
    "                                header = True)\n",
    "            else: \n",
    "                print('CSV file does not exist, creating one.')\n",
    "                headline_df.to_csv('nyt_headlines.csv')\n",
    "                \n",
    "            print(f'Scrapped {len(result[\"response\"][\"docs\"])} for the year of {y} and the month of {m}')\n",
    "                \n",
    "    return (f'Operation Done, exported {headline_count} headlines.')\n",
    "            \n",
    "            \n",
    "            "
   ]
  },
  {
   "cell_type": "code",
   "execution_count": null,
   "id": "df8d6aae",
   "metadata": {},
   "outputs": [],
   "source": [
    "export_nyt_headlines(year, month)"
   ]
  },
  {
   "cell_type": "code",
   "execution_count": null,
   "id": "abd25726",
   "metadata": {},
   "outputs": [],
   "source": [
    "df = pd.read_csv('nyt_headlines.csv', index_col=[0])\n",
    "df"
   ]
  },
  {
   "cell_type": "code",
   "execution_count": null,
   "id": "126edef9",
   "metadata": {},
   "outputs": [],
   "source": [
    "df.drop_duplicates()"
   ]
  },
  {
   "cell_type": "code",
   "execution_count": null,
   "id": "c55f8986",
   "metadata": {},
   "outputs": [],
   "source": []
  }
 ],
 "metadata": {
  "kernelspec": {
   "display_name": "Python 3.9 (tf_2.5)",
   "language": "python",
   "name": "tf_2.5"
  },
  "language_info": {
   "codemirror_mode": {
    "name": "ipython",
    "version": 3
   },
   "file_extension": ".py",
   "mimetype": "text/x-python",
   "name": "python",
   "nbconvert_exporter": "python",
   "pygments_lexer": "ipython3",
   "version": "3.9.10"
  }
 },
 "nbformat": 4,
 "nbformat_minor": 5
}
