{
 "cells": [
  {
   "cell_type": "markdown",
   "id": "3dbee565",
   "metadata": {},
   "source": [
    "### Should the onion still be in business in today's crazy world? \n",
    "\n",
    "It seems the world is getting crazier and I can't tell the difference between satirical news sites like the onion and babylon to real news such as the New York Times or CNN. "
   ]
  },
  {
   "cell_type": "code",
   "execution_count": 1,
   "id": "33f6251d",
   "metadata": {},
   "outputs": [
    {
     "data": {
      "text/plain": [
       "'!\"#$%&\\'()*+,-./:;<=>?@[\\\\]^_`{|}~'"
      ]
     },
     "execution_count": 1,
     "metadata": {},
     "output_type": "execute_result"
    }
   ],
   "source": [
    "import os\n",
    "import pandas as pd\n",
    "\n",
    "import matplotlib.pyplot as plt\n",
    "\n",
    "import re\n",
    "import string\n",
    "string.punctuation"
   ]
  },
  {
   "cell_type": "code",
   "execution_count": 2,
   "id": "143598aa",
   "metadata": {},
   "outputs": [],
   "source": [
    "data_path1 = os.path.join(os.path.abspath(\"..\"), \"data/\", \"Sarcasm_Headlines_Dataset.json\")\n",
    "data_path2 = os.path.join(os.path.abspath(\"..\"), \"data/\", \"Sarcasm_Headlines_Dataset_v2.json\")"
   ]
  },
  {
   "cell_type": "code",
   "execution_count": 3,
   "id": "d46b35ca",
   "metadata": {},
   "outputs": [],
   "source": [
    "data1 = pd.read_json(data_path1, lines=True)\n",
    "data2 = pd.read_json(data_path2, lines=True)"
   ]
  },
  {
   "cell_type": "code",
   "execution_count": 4,
   "id": "972f13a3",
   "metadata": {},
   "outputs": [
    {
     "data": {
      "text/html": [
       "<div>\n",
       "<style scoped>\n",
       "    .dataframe tbody tr th:only-of-type {\n",
       "        vertical-align: middle;\n",
       "    }\n",
       "\n",
       "    .dataframe tbody tr th {\n",
       "        vertical-align: top;\n",
       "    }\n",
       "\n",
       "    .dataframe thead th {\n",
       "        text-align: right;\n",
       "    }\n",
       "</style>\n",
       "<table border=\"1\" class=\"dataframe\">\n",
       "  <thead>\n",
       "    <tr style=\"text-align: right;\">\n",
       "      <th></th>\n",
       "      <th>article_link</th>\n",
       "      <th>headline</th>\n",
       "      <th>is_sarcastic</th>\n",
       "    </tr>\n",
       "  </thead>\n",
       "  <tbody>\n",
       "    <tr>\n",
       "      <th>0</th>\n",
       "      <td>https://www.huffingtonpost.com/entry/versace-b...</td>\n",
       "      <td>former versace store clerk sues over secret 'b...</td>\n",
       "      <td>0</td>\n",
       "    </tr>\n",
       "    <tr>\n",
       "      <th>1</th>\n",
       "      <td>https://www.huffingtonpost.com/entry/roseanne-...</td>\n",
       "      <td>the 'roseanne' revival catches up to our thorn...</td>\n",
       "      <td>0</td>\n",
       "    </tr>\n",
       "    <tr>\n",
       "      <th>2</th>\n",
       "      <td>https://local.theonion.com/mom-starting-to-fea...</td>\n",
       "      <td>mom starting to fear son's web series closest ...</td>\n",
       "      <td>1</td>\n",
       "    </tr>\n",
       "    <tr>\n",
       "      <th>3</th>\n",
       "      <td>https://politics.theonion.com/boehner-just-wan...</td>\n",
       "      <td>boehner just wants wife to listen, not come up...</td>\n",
       "      <td>1</td>\n",
       "    </tr>\n",
       "    <tr>\n",
       "      <th>4</th>\n",
       "      <td>https://www.huffingtonpost.com/entry/jk-rowlin...</td>\n",
       "      <td>j.k. rowling wishes snape happy birthday in th...</td>\n",
       "      <td>0</td>\n",
       "    </tr>\n",
       "    <tr>\n",
       "      <th>5</th>\n",
       "      <td>https://www.huffingtonpost.com/entry/advancing...</td>\n",
       "      <td>advancing the world's women</td>\n",
       "      <td>0</td>\n",
       "    </tr>\n",
       "    <tr>\n",
       "      <th>6</th>\n",
       "      <td>https://www.huffingtonpost.com/entry/how-meat-...</td>\n",
       "      <td>the fascinating case for eating lab-grown meat</td>\n",
       "      <td>0</td>\n",
       "    </tr>\n",
       "    <tr>\n",
       "      <th>7</th>\n",
       "      <td>https://www.huffingtonpost.com/entry/boxed-col...</td>\n",
       "      <td>this ceo will send your kids to school, if you...</td>\n",
       "      <td>0</td>\n",
       "    </tr>\n",
       "    <tr>\n",
       "      <th>8</th>\n",
       "      <td>https://politics.theonion.com/top-snake-handle...</td>\n",
       "      <td>top snake handler leaves sinking huckabee camp...</td>\n",
       "      <td>1</td>\n",
       "    </tr>\n",
       "    <tr>\n",
       "      <th>9</th>\n",
       "      <td>https://www.huffingtonpost.com/entry/fridays-m...</td>\n",
       "      <td>friday's morning email: inside trump's presser...</td>\n",
       "      <td>0</td>\n",
       "    </tr>\n",
       "  </tbody>\n",
       "</table>\n",
       "</div>"
      ],
      "text/plain": [
       "                                        article_link  \\\n",
       "0  https://www.huffingtonpost.com/entry/versace-b...   \n",
       "1  https://www.huffingtonpost.com/entry/roseanne-...   \n",
       "2  https://local.theonion.com/mom-starting-to-fea...   \n",
       "3  https://politics.theonion.com/boehner-just-wan...   \n",
       "4  https://www.huffingtonpost.com/entry/jk-rowlin...   \n",
       "5  https://www.huffingtonpost.com/entry/advancing...   \n",
       "6  https://www.huffingtonpost.com/entry/how-meat-...   \n",
       "7  https://www.huffingtonpost.com/entry/boxed-col...   \n",
       "8  https://politics.theonion.com/top-snake-handle...   \n",
       "9  https://www.huffingtonpost.com/entry/fridays-m...   \n",
       "\n",
       "                                            headline  is_sarcastic  \n",
       "0  former versace store clerk sues over secret 'b...             0  \n",
       "1  the 'roseanne' revival catches up to our thorn...             0  \n",
       "2  mom starting to fear son's web series closest ...             1  \n",
       "3  boehner just wants wife to listen, not come up...             1  \n",
       "4  j.k. rowling wishes snape happy birthday in th...             0  \n",
       "5                        advancing the world's women             0  \n",
       "6     the fascinating case for eating lab-grown meat             0  \n",
       "7  this ceo will send your kids to school, if you...             0  \n",
       "8  top snake handler leaves sinking huckabee camp...             1  \n",
       "9  friday's morning email: inside trump's presser...             0  "
      ]
     },
     "execution_count": 4,
     "metadata": {},
     "output_type": "execute_result"
    }
   ],
   "source": [
    "#stack on top of each other\n",
    "df = pd.concat([data1,data2], ignore_index=True)\n",
    "df.head(10)"
   ]
  },
  {
   "cell_type": "code",
   "execution_count": 5,
   "id": "37153657",
   "metadata": {},
   "outputs": [],
   "source": [
    "#drop duplicates if any\n",
    "df = df.drop_duplicates()"
   ]
  },
  {
   "cell_type": "code",
   "execution_count": 6,
   "id": "3ac99a82",
   "metadata": {},
   "outputs": [],
   "source": [
    "#drop article_link column \n",
    "df = df.drop(['article_link'], axis = 1)"
   ]
  },
  {
   "cell_type": "code",
   "execution_count": 7,
   "id": "d1ebbb55",
   "metadata": {},
   "outputs": [
    {
     "data": {
      "text/html": [
       "<div>\n",
       "<style scoped>\n",
       "    .dataframe tbody tr th:only-of-type {\n",
       "        vertical-align: middle;\n",
       "    }\n",
       "\n",
       "    .dataframe tbody tr th {\n",
       "        vertical-align: top;\n",
       "    }\n",
       "\n",
       "    .dataframe thead th {\n",
       "        text-align: right;\n",
       "    }\n",
       "</style>\n",
       "<table border=\"1\" class=\"dataframe\">\n",
       "  <thead>\n",
       "    <tr style=\"text-align: right;\">\n",
       "      <th></th>\n",
       "      <th>headline</th>\n",
       "      <th>is_sarcastic</th>\n",
       "    </tr>\n",
       "  </thead>\n",
       "  <tbody>\n",
       "    <tr>\n",
       "      <th>0</th>\n",
       "      <td>former versace store clerk sues over secret 'b...</td>\n",
       "      <td>0</td>\n",
       "    </tr>\n",
       "    <tr>\n",
       "      <th>1</th>\n",
       "      <td>the 'roseanne' revival catches up to our thorn...</td>\n",
       "      <td>0</td>\n",
       "    </tr>\n",
       "    <tr>\n",
       "      <th>2</th>\n",
       "      <td>mom starting to fear son's web series closest ...</td>\n",
       "      <td>1</td>\n",
       "    </tr>\n",
       "    <tr>\n",
       "      <th>3</th>\n",
       "      <td>boehner just wants wife to listen, not come up...</td>\n",
       "      <td>1</td>\n",
       "    </tr>\n",
       "    <tr>\n",
       "      <th>4</th>\n",
       "      <td>j.k. rowling wishes snape happy birthday in th...</td>\n",
       "      <td>0</td>\n",
       "    </tr>\n",
       "    <tr>\n",
       "      <th>...</th>\n",
       "      <td>...</td>\n",
       "      <td>...</td>\n",
       "    </tr>\n",
       "    <tr>\n",
       "      <th>55206</th>\n",
       "      <td>tyson holds contest to let fans submit new ide...</td>\n",
       "      <td>1</td>\n",
       "    </tr>\n",
       "    <tr>\n",
       "      <th>55218</th>\n",
       "      <td>increasingly cocky bernie sanders announces he...</td>\n",
       "      <td>1</td>\n",
       "    </tr>\n",
       "    <tr>\n",
       "      <th>55229</th>\n",
       "      <td>cash-strapped zuckerberg forced to sell 11 mil...</td>\n",
       "      <td>1</td>\n",
       "    </tr>\n",
       "    <tr>\n",
       "      <th>55253</th>\n",
       "      <td>grocery store bar actually has great little ha...</td>\n",
       "      <td>1</td>\n",
       "    </tr>\n",
       "    <tr>\n",
       "      <th>55298</th>\n",
       "      <td>study: 83% of marathon spectators only attend ...</td>\n",
       "      <td>1</td>\n",
       "    </tr>\n",
       "  </tbody>\n",
       "</table>\n",
       "<p>28617 rows × 2 columns</p>\n",
       "</div>"
      ],
      "text/plain": [
       "                                                headline  is_sarcastic\n",
       "0      former versace store clerk sues over secret 'b...             0\n",
       "1      the 'roseanne' revival catches up to our thorn...             0\n",
       "2      mom starting to fear son's web series closest ...             1\n",
       "3      boehner just wants wife to listen, not come up...             1\n",
       "4      j.k. rowling wishes snape happy birthday in th...             0\n",
       "...                                                  ...           ...\n",
       "55206  tyson holds contest to let fans submit new ide...             1\n",
       "55218  increasingly cocky bernie sanders announces he...             1\n",
       "55229  cash-strapped zuckerberg forced to sell 11 mil...             1\n",
       "55253  grocery store bar actually has great little ha...             1\n",
       "55298  study: 83% of marathon spectators only attend ...             1\n",
       "\n",
       "[28617 rows x 2 columns]"
      ]
     },
     "execution_count": 7,
     "metadata": {},
     "output_type": "execute_result"
    }
   ],
   "source": [
    "df"
   ]
  },
  {
   "cell_type": "code",
   "execution_count": 8,
   "id": "961cd01d",
   "metadata": {},
   "outputs": [
    {
     "data": {
      "text/plain": [
       "0    14984\n",
       "1    13633\n",
       "Name: is_sarcastic, dtype: int64"
      ]
     },
     "execution_count": 8,
     "metadata": {},
     "output_type": "execute_result"
    }
   ],
   "source": [
    "df.is_sarcastic.value_counts()"
   ]
  },
  {
   "cell_type": "code",
   "execution_count": 9,
   "id": "170d4616",
   "metadata": {},
   "outputs": [],
   "source": [
    "df['word_count'] = df['headline'].str.count(' ') +1"
   ]
  },
  {
   "cell_type": "code",
   "execution_count": 10,
   "id": "2e0aa9c5",
   "metadata": {},
   "outputs": [
    {
     "data": {
      "text/plain": [
       "count    28617.000000\n",
       "mean        10.052032\n",
       "std          3.390864\n",
       "min          2.000000\n",
       "25%          8.000000\n",
       "50%         10.000000\n",
       "75%         12.000000\n",
       "max        151.000000\n",
       "Name: word_count, dtype: float64"
      ]
     },
     "execution_count": 10,
     "metadata": {},
     "output_type": "execute_result"
    }
   ],
   "source": [
    "df.word_count.describe()"
   ]
  },
  {
   "cell_type": "markdown",
   "id": "c3055a61",
   "metadata": {},
   "source": [
    "### Simple Data Cleaning\n",
    "- Removing headlines that are 3 standard deviations away from the mean\n",
    "- Remove Punctuation\n",
    "- Maybe encode any numbers as a special token. \n",
    "- Not removing stopwords. I won't be removing stopwards since these are headlines, stopwords may make up the bulk of the headline, and common stopwords may indicate sarcasm or silly titles."
   ]
  },
  {
   "cell_type": "code",
   "execution_count": 11,
   "id": "0d32dd67",
   "metadata": {},
   "outputs": [
    {
     "data": {
      "text/plain": [
       "3.390863686386101"
      ]
     },
     "execution_count": 11,
     "metadata": {},
     "output_type": "execute_result"
    }
   ],
   "source": [
    "df.word_count.std()"
   ]
  },
  {
   "cell_type": "code",
   "execution_count": 12,
   "id": "7abb4f09",
   "metadata": {},
   "outputs": [],
   "source": [
    "## Removing headlines that are 3 standard deviations away from the mean\n",
    "df = df[df['word_count'] < (df.word_count.mean() + df.word_count.std()*3)]"
   ]
  },
  {
   "cell_type": "code",
   "execution_count": 13,
   "id": "819fa6af",
   "metadata": {},
   "outputs": [
    {
     "data": {
      "text/plain": [
       "count    28515.000000\n",
       "mean        10.001753\n",
       "std          3.196977\n",
       "min          2.000000\n",
       "25%          8.000000\n",
       "50%         10.000000\n",
       "75%         12.000000\n",
       "max         20.000000\n",
       "Name: word_count, dtype: float64"
      ]
     },
     "execution_count": 13,
     "metadata": {},
     "output_type": "execute_result"
    }
   ],
   "source": [
    "df.word_count.describe()"
   ]
  },
  {
   "cell_type": "code",
   "execution_count": 14,
   "id": "fc50e916",
   "metadata": {},
   "outputs": [],
   "source": [
    "#Maybe some general cleaning\n",
    "\n",
    "def token_cleaning(text):\n",
    "    \n",
    "    \n",
    "    tokens = text.split(\" \")\n",
    "    \n",
    "    #Lowercasing words\n",
    "    tokens = [token.lower() for token in tokens]\n",
    "    \n",
    "    #Removing Punctuation\n",
    "    table = str.maketrans('','', string.punctuation)\n",
    "    tokens = \" \".join([token.translate(table) for token in tokens])\n",
    "    \n",
    "    ## Encode numbers with digit_token\n",
    "    tokens = re.sub(r'\\d+', \"digit_token\", str(tokens))\n",
    "    \n",
    "    return tokens\n",
    " "
   ]
  },
  {
   "cell_type": "code",
   "execution_count": 15,
   "id": "9a74f526",
   "metadata": {},
   "outputs": [
    {
     "name": "stderr",
     "output_type": "stream",
     "text": [
      "/var/folders/pc/kwnxtbhs20v9n_j87lbbgmlr0000gn/T/ipykernel_3598/2200812046.py:1: SettingWithCopyWarning: \n",
      "A value is trying to be set on a copy of a slice from a DataFrame.\n",
      "Try using .loc[row_indexer,col_indexer] = value instead\n",
      "\n",
      "See the caveats in the documentation: https://pandas.pydata.org/pandas-docs/stable/user_guide/indexing.html#returning-a-view-versus-a-copy\n",
      "  df['headline']= df['headline'].apply(token_cleaning)\n"
     ]
    }
   ],
   "source": [
    "df['headline']= df['headline'].apply(token_cleaning)"
   ]
  },
  {
   "cell_type": "code",
   "execution_count": 16,
   "id": "80e8c4eb",
   "metadata": {},
   "outputs": [
    {
     "data": {
      "text/html": [
       "<div>\n",
       "<style scoped>\n",
       "    .dataframe tbody tr th:only-of-type {\n",
       "        vertical-align: middle;\n",
       "    }\n",
       "\n",
       "    .dataframe tbody tr th {\n",
       "        vertical-align: top;\n",
       "    }\n",
       "\n",
       "    .dataframe thead th {\n",
       "        text-align: right;\n",
       "    }\n",
       "</style>\n",
       "<table border=\"1\" class=\"dataframe\">\n",
       "  <thead>\n",
       "    <tr style=\"text-align: right;\">\n",
       "      <th></th>\n",
       "      <th>headline</th>\n",
       "      <th>is_sarcastic</th>\n",
       "      <th>word_count</th>\n",
       "    </tr>\n",
       "  </thead>\n",
       "  <tbody>\n",
       "    <tr>\n",
       "      <th>0</th>\n",
       "      <td>former versace store clerk sues over secret bl...</td>\n",
       "      <td>0</td>\n",
       "      <td>12</td>\n",
       "    </tr>\n",
       "    <tr>\n",
       "      <th>1</th>\n",
       "      <td>the roseanne revival catches up to our thorny ...</td>\n",
       "      <td>0</td>\n",
       "      <td>14</td>\n",
       "    </tr>\n",
       "    <tr>\n",
       "      <th>2</th>\n",
       "      <td>mom starting to fear sons web series closest t...</td>\n",
       "      <td>1</td>\n",
       "      <td>14</td>\n",
       "    </tr>\n",
       "    <tr>\n",
       "      <th>3</th>\n",
       "      <td>boehner just wants wife to listen not come up ...</td>\n",
       "      <td>1</td>\n",
       "      <td>13</td>\n",
       "    </tr>\n",
       "    <tr>\n",
       "      <th>4</th>\n",
       "      <td>jk rowling wishes snape happy birthday in the ...</td>\n",
       "      <td>0</td>\n",
       "      <td>11</td>\n",
       "    </tr>\n",
       "    <tr>\n",
       "      <th>...</th>\n",
       "      <td>...</td>\n",
       "      <td>...</td>\n",
       "      <td>...</td>\n",
       "    </tr>\n",
       "    <tr>\n",
       "      <th>55206</th>\n",
       "      <td>tyson holds contest to let fans submit new ide...</td>\n",
       "      <td>1</td>\n",
       "      <td>14</td>\n",
       "    </tr>\n",
       "    <tr>\n",
       "      <th>55218</th>\n",
       "      <td>increasingly cocky bernie sanders announces he...</td>\n",
       "      <td>1</td>\n",
       "      <td>12</td>\n",
       "    </tr>\n",
       "    <tr>\n",
       "      <th>55229</th>\n",
       "      <td>cashstrapped zuckerberg forced to sell digit_t...</td>\n",
       "      <td>1</td>\n",
       "      <td>9</td>\n",
       "    </tr>\n",
       "    <tr>\n",
       "      <th>55253</th>\n",
       "      <td>grocery store bar actually has great little ha...</td>\n",
       "      <td>1</td>\n",
       "      <td>15</td>\n",
       "    </tr>\n",
       "    <tr>\n",
       "      <th>55298</th>\n",
       "      <td>study digit_token of marathon spectators only ...</td>\n",
       "      <td>1</td>\n",
       "      <td>15</td>\n",
       "    </tr>\n",
       "  </tbody>\n",
       "</table>\n",
       "<p>28515 rows × 3 columns</p>\n",
       "</div>"
      ],
      "text/plain": [
       "                                                headline  is_sarcastic  \\\n",
       "0      former versace store clerk sues over secret bl...             0   \n",
       "1      the roseanne revival catches up to our thorny ...             0   \n",
       "2      mom starting to fear sons web series closest t...             1   \n",
       "3      boehner just wants wife to listen not come up ...             1   \n",
       "4      jk rowling wishes snape happy birthday in the ...             0   \n",
       "...                                                  ...           ...   \n",
       "55206  tyson holds contest to let fans submit new ide...             1   \n",
       "55218  increasingly cocky bernie sanders announces he...             1   \n",
       "55229  cashstrapped zuckerberg forced to sell digit_t...             1   \n",
       "55253  grocery store bar actually has great little ha...             1   \n",
       "55298  study digit_token of marathon spectators only ...             1   \n",
       "\n",
       "       word_count  \n",
       "0              12  \n",
       "1              14  \n",
       "2              14  \n",
       "3              13  \n",
       "4              11  \n",
       "...           ...  \n",
       "55206          14  \n",
       "55218          12  \n",
       "55229           9  \n",
       "55253          15  \n",
       "55298          15  \n",
       "\n",
       "[28515 rows x 3 columns]"
      ]
     },
     "execution_count": 16,
     "metadata": {},
     "output_type": "execute_result"
    }
   ],
   "source": [
    "df"
   ]
  },
  {
   "cell_type": "code",
   "execution_count": 19,
   "id": "65d18c0b",
   "metadata": {},
   "outputs": [],
   "source": [
    "#run this to export the clean data\n",
    "#df.to_csv('data_clean.csv', index=False)"
   ]
  },
  {
   "cell_type": "code",
   "execution_count": null,
   "id": "19303945",
   "metadata": {},
   "outputs": [],
   "source": []
  }
 ],
 "metadata": {
  "kernelspec": {
   "display_name": "Python 3.9 (tensorflow)",
   "language": "python",
   "name": "tensorflow"
  },
  "language_info": {
   "codemirror_mode": {
    "name": "ipython",
    "version": 3
   },
   "file_extension": ".py",
   "mimetype": "text/x-python",
   "name": "python",
   "nbconvert_exporter": "python",
   "pygments_lexer": "ipython3",
   "version": "3.9.10"
  }
 },
 "nbformat": 4,
 "nbformat_minor": 5
}
